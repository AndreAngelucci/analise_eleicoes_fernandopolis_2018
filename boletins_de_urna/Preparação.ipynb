{
 "cells": [
  {
   "cell_type": "code",
   "execution_count": 53,
   "metadata": {},
   "outputs": [],
   "source": [
    "import pandas as pd\n",
    "import re\n",
    "import requests\n",
    "pd.set_option('display.max_columns', 0)\n",
    "pd.set_option('display.max_rows', 1000)"
   ]
  },
  {
   "cell_type": "markdown",
   "metadata": {},
   "source": [
    "## Seções eleitorais\n",
    "Carrega a lista de seções eleitorais do estado de SP."
   ]
  },
  {
   "cell_type": "code",
   "execution_count": 54,
   "metadata": {},
   "outputs": [],
   "source": [
    "secoes_eleitorais = pd.read_csv('./secoes_eleitorais_sp.csv', encoding='latin1',\n",
    "                               header=0, names=['zona', 'escola', 'endereco', 'cidade', 'secoes'],\n",
    "                               index_col=False)\n",
    "#apenas fernandopolist\n",
    "secoes_eleitorais = secoes_eleitorais[secoes_eleitorais['cidade'] == 'FERNANDÓPOLIS'].drop(\n",
    "    axis='columns', labels=['zona', 'cidade']).reset_index(drop=True)"
   ]
  },
  {
   "cell_type": "code",
   "execution_count": 55,
   "metadata": {},
   "outputs": [],
   "source": [
    "def separa_numero_secoes(sessao):\n",
    "    #grupos de seções separados por ;\n",
    "    str_sessoes = sessao.split(';')\n",
    "    #cada seção está no formato: de \\d à \\d\n",
    "    todas_secoes = []\n",
    "    for s in str_sessoes:\n",
    "        secoes = re.findall('\\d+', s)\n",
    "        secoes = list(map(int, secoes))\n",
    "        if len(secoes) == 2:\n",
    "            secoes[1] = secoes[1] + 1\n",
    "            secoes = list(range(*secoes))\n",
    "        else:\n",
    "            secoes = list(secoes)\n",
    "        for s in secoes:\n",
    "            todas_secoes.append(s)\n",
    "    return todas_secoes\n",
    "secoes_eleitorais['lista_secoes'] = secoes_eleitorais['secoes'].apply(separa_numero_secoes)"
   ]
  },
  {
   "cell_type": "markdown",
   "metadata": {},
   "source": [
    "Renomeia as escolas"
   ]
  },
  {
   "cell_type": "code",
   "execution_count": 56,
   "metadata": {},
   "outputs": [],
   "source": [
    "secoes_eleitorais['escola'] = secoes_eleitorais['escola'].map({\n",
    "    'CENTRO EDUCACIONAL SESI  405': 'Sesi',\n",
    "    'EE AFONSO CAFARO': 'Cafaro',\n",
    "    'EE ARMELINDO FERRARI': 'Ferrari',\n",
    "    'EE CARLOS BAROZZI': 'Barozi',\n",
    "    'EE FERNANDO BARBOSA LIMA': 'Barbosa Lima',\n",
    "    'EE JOAQUIM ANTONIO PEREIRA': 'JAP',\n",
    "    'EE JOSE BELUCIO': 'Belucio',\n",
    "    'EE LIBERO ALMEIDA SILVARES': 'EELAS',\n",
    "    'EE PROF ANTONIO TANURI': 'Tanuri',\n",
    "    'EE PROFA MARIA CONCEICAO APARECIDA BASSO': 'Brasitânia',\n",
    "    'EE SATURNINO LEON ARROYO': 'Saturnino',\n",
    "    'EMEF CEL FRANCISCO ARNALDO DA SILVA': 'Coronel',\n",
    "    'EMEF JOAO GARCIA ANDREO': 'Andreo',\n",
    "    'EMEF KOEI ARAKAKI': 'Koei Arakaki',\n",
    "    'EMEF PEDRO MALAVAZZI': 'Pedro Malavazzi',\n",
    "    'EMEF PROF  IVONETE AMARAL DA SILVA ROSA': 'Ivonete',\n",
    "    'ESCOLA TÉCNICA ESTADUAL DE FERNANDÓPOLIS': 'ETEC'\n",
    "})"
   ]
  },
  {
   "cell_type": "markdown",
   "metadata": {},
   "source": [
    "Encontra as coordenadas geograficas da escola para plotar o gráfico depois.\n",
    "Pesquisa por endereço através da OpenStreetMaps."
   ]
  },
  {
   "cell_type": "code",
   "execution_count": 57,
   "metadata": {},
   "outputs": [],
   "source": [
    "def pesquisa_endereco(endereco):\n",
    "    try:\n",
    "        # o número do endereço precisa estar na frente\n",
    "        end, numero = re.findall('(^.+)(\\,\\s+\\d+$)', endereco.strip())[0]\n",
    "        numero = re.findall('\\d+', numero)[0]\n",
    "        r = requests.get(\n",
    "            f'https://nominatim.openstreetmap.org/search?city=fernandopolis&street={numero}+{end}&format=json')\n",
    "        res = r.json()\n",
    "        if len(res) == 0:\n",
    "            raise IndexError('Endereco não encontrado')\n",
    "        return (r.json()[0]['lat'], r.json()[0]['lon'])\n",
    "    except Exception as err:\n",
    "        print(endereco, 'erro: ', err)\n",
    "        return [0, 0]"
   ]
  },
  {
   "cell_type": "code",
   "execution_count": 58,
   "metadata": {},
   "outputs": [
    {
     "name": "stdout",
     "output_type": "stream",
     "text": [
      "AVENIDA RUBENS PADILHA MEATTO, 783 erro:  Endereco não encontrado\n",
      "R REINALDO BERTOLINE, 300 erro:  Endereco não encontrado\n"
     ]
    }
   ],
   "source": [
    "lat_lon_df = pd.DataFrame(\n",
    "    secoes_eleitorais['endereco'].apply(pesquisa_endereco).tolist(),\n",
    "    columns=['lat', 'lon'])"
   ]
  },
  {
   "cell_type": "code",
   "execution_count": 59,
   "metadata": {},
   "outputs": [],
   "source": [
    "# Escola Andreo e Pedro Malavazi, informa hard coded\n",
    "lat_lon_df.iloc[13][['lat', 'lon']] = (-20.269411, -50.260) #Pedro Malavazi\n",
    "lat_lon_df.iloc[14][['lat', 'lon']] = (-20.281775, -50.257071) #Andreo"
   ]
  },
  {
   "cell_type": "code",
   "execution_count": 60,
   "metadata": {},
   "outputs": [],
   "source": [
    "secoes_eleitorais = pd.concat([secoes_eleitorais, lat_lon_df], axis='columns')"
   ]
  },
  {
   "cell_type": "markdown",
   "metadata": {},
   "source": [
    "## Preparação dos dados de votação\n",
    "1. Consome os datasets do primeiro e segundo turno;\n",
    "2. Concatena\n",
    "3. Join com as seções eleitorais"
   ]
  },
  {
   "cell_type": "code",
   "execution_count": 61,
   "metadata": {},
   "outputs": [],
   "source": [
    "votos_turno1 = pd.read_csv('./2018_turno_1/votos_filtrados_fernandopolis.csv',\n",
    "    encoding='latin1', sep=';', na_values=['#NULO', '#NULO#', '-1', -1])\n",
    "votos_turno2 = pd.read_csv('./2018_turno_2/votos_filtrados_fernandopolis.csv',\n",
    "    encoding='latin1', sep=';', na_values=['#NULO', '#NULO#', '-1', -1])\n",
    "votos = pd.concat([votos_turno1, votos_turno2])"
   ]
  },
  {
   "cell_type": "code",
   "execution_count": 62,
   "metadata": {},
   "outputs": [],
   "source": [
    "features = [\n",
    "    'ANO_ELEICAO', 'NR_TURNO', 'NR_ZONA', 'NR_SECAO', 'NR_LOCAL_VOTACAO',\n",
    "    'DS_CARGO_PERGUNTA', 'NR_PARTIDO', 'SG_PARTIDO', 'NM_PARTIDO', 'QT_APTOS',\n",
    "    'QT_COMPARECIMENTO', 'QT_ABSTENCOES', 'DS_TIPO_VOTAVEL', 'NR_VOTAVEL',\n",
    "    'NM_VOTAVEL', 'QT_VOTOS'\n",
    "]\n",
    "nome_features = [\n",
    "    'ano', 'turno', 'zona_eleitoral', 'secao', 'local_votacao',\n",
    "    'cargo', 'num_partido', 'sigla_partido', 'nome_partido', 'eleitores_aptos',\n",
    "    'eleitores_compareceram', 'eleitores_absteram', 'voto_tipo', 'voto_numero',\n",
    "    'voto_nome', 'voto_qtd'\n",
    "]\n",
    "nome_colunas = dict(zip(features, nome_features))\n",
    "votos = votos[features].rename(columns=nome_colunas)"
   ]
  },
  {
   "cell_type": "markdown",
   "metadata": {},
   "source": [
    "## Merge entre os 2 datasets\n",
    "Encontra qual a seção eleitoral de cada voto"
   ]
  },
  {
   "cell_type": "code",
   "execution_count": 63,
   "metadata": {},
   "outputs": [],
   "source": [
    "def encontra_secao(numero_secao):\n",
    "    # procura a secao que o numero esta e retorna o indice\n",
    "    return secoes_eleitorais[\n",
    "        list(numero_secao in x for x in secoes_eleitorais['lista_secoes'])].index.values[0]\n",
    "votos['idx_secao'] = votos['secao'].apply(encontra_secao)"
   ]
  },
  {
   "cell_type": "code",
   "execution_count": 64,
   "metadata": {},
   "outputs": [],
   "source": [
    "df_eleicoes = pd.merge(votos, secoes_eleitorais, left_on='idx_secao', right_index=True)"
   ]
  },
  {
   "cell_type": "code",
   "execution_count": 65,
   "metadata": {},
   "outputs": [],
   "source": [
    "#limpeza nos dados desnecessarios\n",
    "df_eleicoes.drop(axis='columns', labels=['ano', 'secoes'], inplace=True)"
   ]
  },
  {
   "cell_type": "code",
   "execution_count": 66,
   "metadata": {},
   "outputs": [],
   "source": [
    "# Apenas a primeira letra do nome dos candidatos maiúscula\n",
    "df_eleicoes['voto_nome'] = df_eleicoes['voto_nome'].str.title()"
   ]
  },
  {
   "cell_type": "markdown",
   "metadata": {},
   "source": [
    "## Salva o resultado para análise"
   ]
  },
  {
   "cell_type": "code",
   "execution_count": 69,
   "metadata": {},
   "outputs": [],
   "source": [
    "df_eleicoes.to_csv('./eleicoes_final.csv', encoding='latin1', index=False)"
   ]
  },
  {
   "cell_type": "code",
   "execution_count": null,
   "metadata": {},
   "outputs": [],
   "source": []
  }
 ],
 "metadata": {
  "kernelspec": {
   "display_name": "Python 3",
   "language": "python",
   "name": "python3"
  },
  "language_info": {
   "codemirror_mode": {
    "name": "ipython",
    "version": 3
   },
   "file_extension": ".py",
   "mimetype": "text/x-python",
   "name": "python",
   "nbconvert_exporter": "python",
   "pygments_lexer": "ipython3",
   "version": "3.8.3"
  }
 },
 "nbformat": 4,
 "nbformat_minor": 4
}
