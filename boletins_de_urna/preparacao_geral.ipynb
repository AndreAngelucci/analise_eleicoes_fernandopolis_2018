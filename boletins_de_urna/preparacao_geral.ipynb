{
 "cells": [
  {
   "cell_type": "code",
   "execution_count": 17,
   "metadata": {},
   "outputs": [],
   "source": [
    "import pandas as pd\n",
    "pd.set_option('display.max_columns', 0)"
   ]
  },
  {
   "cell_type": "code",
   "execution_count": 11,
   "metadata": {},
   "outputs": [],
   "source": [
    "primeiro_turno = pd.read_csv('2018_turno_1/votos_filtrados_fernandopolis.csv', encoding='latin1', sep=';')\n",
    "segundo_turno = pd.read_csv('2018_turno_2/votos_filtrados_fernandopolis.csv', encoding='latin1', sep=';')"
   ]
  },
  {
   "cell_type": "code",
   "execution_count": 31,
   "metadata": {},
   "outputs": [],
   "source": [
    "resumo_primeiro_turno = primeiro_turno[['NR_ZONA', 'NR_SECAO', 'QT_APTOS', 'QT_COMPARECIMENTO', 'QT_ABSTENCOES']].drop_duplicates().sum()\n",
    "resumo_segundo_turno = segundo_turno[['NR_ZONA', 'NR_SECAO', 'QT_APTOS', 'QT_COMPARECIMENTO', 'QT_ABSTENCOES']].drop_duplicates().sum()"
   ]
  },
  {
   "cell_type": "code",
   "execution_count": 33,
   "metadata": {},
   "outputs": [],
   "source": [
    "df_resultado = pd.DataFrame({\n",
    "    'turno': [1, 2],\n",
    "    'eleitores_aptos': [\n",
    "        resumo_primeiro_turno['QT_APTOS'],\n",
    "        resumo_segundo_turno['QT_APTOS']\n",
    "    ],\n",
    "    'eleitores_compareceram': [\n",
    "        resumo_primeiro_turno['QT_COMPARECIMENTO'],\n",
    "        resumo_segundo_turno['QT_COMPARECIMENTO']\n",
    "    ],\n",
    "    'eleitores_faltaram': [\n",
    "        resumo_primeiro_turno['QT_ABSTENCOES'],\n",
    "        resumo_segundo_turno['QT_ABSTENCOES']\n",
    "    ]\n",
    "})\n",
    "df_resultado.to_csv('eleitores_geral.csv', encoding='latin1', index=False)"
   ]
  }
 ],
 "metadata": {
  "kernelspec": {
   "display_name": "Python 3",
   "language": "python",
   "name": "python3"
  },
  "language_info": {
   "codemirror_mode": {
    "name": "ipython",
    "version": 3
   },
   "file_extension": ".py",
   "mimetype": "text/x-python",
   "name": "python",
   "nbconvert_exporter": "python",
   "pygments_lexer": "ipython3",
   "version": "3.7.6"
  }
 },
 "nbformat": 4,
 "nbformat_minor": 4
}
